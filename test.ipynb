{
 "cells": [
  {
   "cell_type": "code",
   "execution_count": null,
   "metadata": {},
   "outputs": [],
   "source": [
    "import json\n",
    "import requests\n",
    "from bs4 import BeautifulSoup\n",
    "from crawlers import *\n",
    "from password import student_id, password"
   ]
  },
  {
   "cell_type": "code",
   "execution_count": null,
   "metadata": {},
   "outputs": [],
   "source": [
    "crawler = VRUCCrawler(student_id, password)"
   ]
  },
  {
   "cell_type": "code",
   "execution_count": null,
   "metadata": {},
   "outputs": [],
   "source": [
    "page_idx = 0\n",
    "url = f\"https://v.ruc.edu.cn/educenter/api/classes?offset={page_idx}&limit=10&name=&school_domain=v.ruc.edu.cn&timespan=1605364909980\"\n",
    "response = crawler.get(url)\n",
    "\n",
    "class_data = json.loads(response.text)[\"data\"]"
   ]
  },
  {
   "cell_type": "code",
   "execution_count": null,
   "metadata": {},
   "outputs": [],
   "source": [
    "class_data"
   ]
  },
  {
   "cell_type": "code",
   "execution_count": null,
   "metadata": {},
   "outputs": [],
   "source": [
    "class_id = \"62249220e70fc228129f2971\"\n",
    "url_student = f\"https://v.ruc.edu.cn/educenter/api/classes/{class_id}/users?limit=65536&school_domain=v.ruc.edu.cn\"\n",
    "response = crawler.get(url_student)\n",
    "student_data = json.loads(response.text)"
   ]
  },
  {
   "cell_type": "code",
   "execution_count": null,
   "metadata": {},
   "outputs": [],
   "source": [
    "student_data"
   ]
  },
  {
   "cell_type": "code",
   "execution_count": null,
   "metadata": {},
   "outputs": [],
   "source": [
    "sid = \"2020202469\"\n",
    "url = \"http://app.ruc.edu.cn/idccw/finance/StudentAction.do\"\n",
    "params = {\"method\":\"enterStudent\",\"q_xh\":sid,\"q_xm\":\"\"}\n",
    "response = crawler.get(url, params=params)\n",
    "response.text"
   ]
  },
  {
   "cell_type": "markdown",
   "metadata": {},
   "source": [
    "### Appointment"
   ]
  },
  {
   "cell_type": "code",
   "execution_count": null,
   "metadata": {},
   "outputs": [],
   "source": [
    "response = crawler.get(\"http://appointment.ruc.edu.cn/index/ruclogin/getjumpurl\")"
   ]
  },
  {
   "cell_type": "code",
   "execution_count": null,
   "metadata": {},
   "outputs": [],
   "source": [
    "response = crawler.get(\"http://appointment.ruc.edu.cn/index/apply/apply/RULEID/124\")\n",
    "html = BeautifulSoup(response.text, \"html.parser\")"
   ]
  },
  {
   "cell_type": "code",
   "execution_count": null,
   "metadata": {},
   "outputs": [],
   "source": [
    "files = {\n",
    "    'file': open(\"data/1.png\", 'rb')\n",
    "}\n",
    "files"
   ]
  },
  {
   "cell_type": "code",
   "execution_count": null,
   "metadata": {},
   "outputs": [],
   "source": [
    "headers = crawler.get_headers()\n",
    "headers[\"Accept-Encoding\"] = \"gzip, deflate\"\n",
    "headers[\"Accept\"] = \"text/html,application/xhtml+xml,application/xml;q=0.9,image/webp,image/apng,*/*;q=0.8,application/signed-exchange;v=b3;q=0.9\"\n",
    "headers[\"Content-Type\"] = \"multipart/form-data; boundary=----WebKitFormBoundaryYMViuwaBAA6z3tzB\"\n",
    "headers[\"Connection\"] = \"keep-alive\"\n",
    "headers[\"Content-Length\"] = \"63620\"\n",
    "headers[\"Cache-Control\"] = \"max-age=0\"\n",
    "headers[\"Referer\"] = \"http://appointment.ruc.edu.cn/index/apply/apply/RULEID/124\"\n",
    "headers[\"Origin\"] = \"http://appointment.ruc.edu.cn\"\n",
    "headers[\"Accept-Language\"] = \"zh-CN,zh;q=0.9,en;q=0.8,en-GB;q=0.7,en-US;q=0.6\"\n",
    "response = crawler.post(\"http://appointment.ruc.edu.cn/f/kindeditor/upload_json?dir=image\", headers=headers, files=files)\n",
    "response.text"
   ]
  },
  {
   "cell_type": "code",
   "execution_count": null,
   "metadata": {},
   "outputs": [],
   "source": [
    "response = crawler.get(\"http://appointment.ruc.edu.cn/index/apply/apply/RULEID/124\")\n",
    "response.text"
   ]
  }
 ],
 "metadata": {
  "interpreter": {
   "hash": "f4bcd350b6c4279170753eb176a7f4c9214985f184dcc4ddacbe625a35cf9bbf"
  },
  "kernelspec": {
   "display_name": "Python 3.9.7 ('web')",
   "language": "python",
   "name": "python3"
  },
  "language_info": {
   "codemirror_mode": {
    "name": "ipython",
    "version": 3
   },
   "file_extension": ".py",
   "mimetype": "text/x-python",
   "name": "python",
   "nbconvert_exporter": "python",
   "pygments_lexer": "ipython3",
   "version": "3.9.7"
  },
  "orig_nbformat": 4
 },
 "nbformat": 4,
 "nbformat_minor": 2
}
