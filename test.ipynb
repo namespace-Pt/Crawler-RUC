{
 "cells": [
  {
   "cell_type": "code",
   "execution_count": 1,
   "metadata": {},
   "outputs": [],
   "source": [
    "import json\n",
    "import requests\n",
    "from bs4 import BeautifulSoup\n",
    "from crawlers import *\n",
    "from password import student_id, password"
   ]
  },
  {
   "cell_type": "code",
   "execution_count": 2,
   "metadata": {},
   "outputs": [],
   "source": [
    "# crawler = VRUCCrawler(student_id, password)\n",
    "crawler = JWCrawler(student_id, password)"
   ]
  },
  {
   "cell_type": "code",
   "execution_count": 3,
   "metadata": {},
   "outputs": [],
   "source": [
    "grades = crawler.get_grades()"
   ]
  },
  {
   "cell_type": "code",
   "execution_count": 10,
   "metadata": {},
   "outputs": [],
   "source": [
    "url = \"https://jw.ruc.edu.cn/resService/jwxtpt/v1/jczy/userIndex/findUserDetailNew?resourceCode=GRZX01&apiCode=jwPublic.controller.UserIndexController.findUserDetailNew\"\n",
    "data = {}\n",
    "response = crawler.post(url, data=json.dumps(data))"
   ]
  },
  {
   "cell_type": "code",
   "execution_count": 1,
   "metadata": {},
   "outputs": [],
   "source": [
    "import pandas as pd"
   ]
  },
  {
   "cell_type": "code",
   "execution_count": 2,
   "metadata": {},
   "outputs": [],
   "source": [
    "data = pd.read_excel(r\"C:\\Users\\Pt\\Documents\\WeChat Files\\wxid_hr1ihqkys8t112\\FileStorage\\MsgAttach\\0acc1ce0877d8c3aacaa648609e86238\\File\\2022-07\\平时成绩.xlsx\")"
   ]
  },
  {
   "cell_type": "code",
   "execution_count": 3,
   "metadata": {},
   "outputs": [
    {
     "data": {
      "text/html": [
       "<div>\n",
       "<style scoped>\n",
       "    .dataframe tbody tr th:only-of-type {\n",
       "        vertical-align: middle;\n",
       "    }\n",
       "\n",
       "    .dataframe tbody tr th {\n",
       "        vertical-align: top;\n",
       "    }\n",
       "\n",
       "    .dataframe thead th {\n",
       "        text-align: right;\n",
       "    }\n",
       "</style>\n",
       "<table border=\"1\" class=\"dataframe\">\n",
       "  <thead>\n",
       "    <tr style=\"text-align: right;\">\n",
       "      <th></th>\n",
       "      <th>2021-2022春季学期《财政学B》考勤表</th>\n",
       "      <th>Unnamed: 1</th>\n",
       "      <th>Unnamed: 2</th>\n",
       "      <th>Unnamed: 3</th>\n",
       "      <th>Unnamed: 4</th>\n",
       "      <th>Unnamed: 5</th>\n",
       "      <th>Unnamed: 6</th>\n",
       "      <th>Unnamed: 7</th>\n",
       "      <th>Unnamed: 8</th>\n",
       "    </tr>\n",
       "  </thead>\n",
       "  <tbody>\n",
       "    <tr>\n",
       "      <th>0</th>\n",
       "      <td>教学班号：2122221022584020 教学班名称：财政学B04班 教师：杨益民 学分：3</td>\n",
       "      <td>NaN</td>\n",
       "      <td>NaN</td>\n",
       "      <td>NaN</td>\n",
       "      <td>NaN</td>\n",
       "      <td>NaN</td>\n",
       "      <td>NaN</td>\n",
       "      <td>NaN</td>\n",
       "      <td>NaN</td>\n",
       "    </tr>\n",
       "    <tr>\n",
       "      <th>1</th>\n",
       "      <td>序号</td>\n",
       "      <td>学号</td>\n",
       "      <td>姓名</td>\n",
       "      <td>班级</td>\n",
       "      <td>选课属性</td>\n",
       "      <td>NaN</td>\n",
       "      <td>作业成绩</td>\n",
       "      <td>展示成绩</td>\n",
       "      <td>总分</td>\n",
       "    </tr>\n",
       "    <tr>\n",
       "      <th>2</th>\n",
       "      <td>NaN</td>\n",
       "      <td>NaN</td>\n",
       "      <td>NaN</td>\n",
       "      <td>NaN</td>\n",
       "      <td>NaN</td>\n",
       "      <td>NaN</td>\n",
       "      <td>NaN</td>\n",
       "      <td>NaN</td>\n",
       "      <td>NaN</td>\n",
       "    </tr>\n",
       "    <tr>\n",
       "      <th>3</th>\n",
       "      <td>1</td>\n",
       "      <td>2016290097</td>\n",
       "      <td>都多焕</td>\n",
       "      <td>经济学院2018级本科经济学1班</td>\n",
       "      <td>常规</td>\n",
       "      <td>NaN</td>\n",
       "      <td>10</td>\n",
       "      <td>23</td>\n",
       "      <td>33</td>\n",
       "    </tr>\n",
       "    <tr>\n",
       "      <th>4</th>\n",
       "      <td>2</td>\n",
       "      <td>2018200474</td>\n",
       "      <td>兰心怡</td>\n",
       "      <td>2018级土地资源管理本科班</td>\n",
       "      <td>常规</td>\n",
       "      <td>NaN</td>\n",
       "      <td>20</td>\n",
       "      <td>22</td>\n",
       "      <td>42</td>\n",
       "    </tr>\n",
       "    <tr>\n",
       "      <th>...</th>\n",
       "      <td>...</td>\n",
       "      <td>...</td>\n",
       "      <td>...</td>\n",
       "      <td>...</td>\n",
       "      <td>...</td>\n",
       "      <td>...</td>\n",
       "      <td>...</td>\n",
       "      <td>...</td>\n",
       "      <td>...</td>\n",
       "    </tr>\n",
       "    <tr>\n",
       "      <th>78</th>\n",
       "      <td>76</td>\n",
       "      <td>2020202780</td>\n",
       "      <td>叶馨怿</td>\n",
       "      <td>2020经济学类4班</td>\n",
       "      <td>常规</td>\n",
       "      <td>NaN</td>\n",
       "      <td>20</td>\n",
       "      <td>21</td>\n",
       "      <td>41</td>\n",
       "    </tr>\n",
       "    <tr>\n",
       "      <th>79</th>\n",
       "      <td>77</td>\n",
       "      <td>2020202783</td>\n",
       "      <td>何贵洲</td>\n",
       "      <td>2020经济学类3班</td>\n",
       "      <td>常规</td>\n",
       "      <td>NaN</td>\n",
       "      <td>20</td>\n",
       "      <td>23</td>\n",
       "      <td>43</td>\n",
       "    </tr>\n",
       "    <tr>\n",
       "      <th>80</th>\n",
       "      <td>78</td>\n",
       "      <td>2020202784</td>\n",
       "      <td>马梦阳</td>\n",
       "      <td>2020经济学类4班</td>\n",
       "      <td>常规</td>\n",
       "      <td>NaN</td>\n",
       "      <td>20</td>\n",
       "      <td>21</td>\n",
       "      <td>41</td>\n",
       "    </tr>\n",
       "    <tr>\n",
       "      <th>81</th>\n",
       "      <td>79</td>\n",
       "      <td>2020290089</td>\n",
       "      <td>石川奈美子</td>\n",
       "      <td>2020经济学类4班</td>\n",
       "      <td>常规</td>\n",
       "      <td>NaN</td>\n",
       "      <td>20</td>\n",
       "      <td>19</td>\n",
       "      <td>39</td>\n",
       "    </tr>\n",
       "    <tr>\n",
       "      <th>82</th>\n",
       "      <td>80</td>\n",
       "      <td>2020290090</td>\n",
       "      <td>黄智浩</td>\n",
       "      <td>2020经济学类3班</td>\n",
       "      <td>常规</td>\n",
       "      <td>NaN</td>\n",
       "      <td>休学</td>\n",
       "      <td>NaN</td>\n",
       "      <td>NaN</td>\n",
       "    </tr>\n",
       "  </tbody>\n",
       "</table>\n",
       "<p>83 rows × 9 columns</p>\n",
       "</div>"
      ],
      "text/plain": [
       "                             2021-2022春季学期《财政学B》考勤表  Unnamed: 1 Unnamed: 2  \\\n",
       "0   教学班号：2122221022584020 教学班名称：财政学B04班 教师：杨益民 学分：3         NaN        NaN   \n",
       "1                                                序号          学号         姓名   \n",
       "2                                               NaN         NaN        NaN   \n",
       "3                                                 1  2016290097        都多焕   \n",
       "4                                                 2  2018200474        兰心怡   \n",
       "..                                              ...         ...        ...   \n",
       "78                                               76  2020202780        叶馨怿   \n",
       "79                                               77  2020202783        何贵洲   \n",
       "80                                               78  2020202784        马梦阳   \n",
       "81                                               79  2020290089      石川奈美子   \n",
       "82                                               80  2020290090        黄智浩   \n",
       "\n",
       "          Unnamed: 3 Unnamed: 4  Unnamed: 5 Unnamed: 6 Unnamed: 7 Unnamed: 8  \n",
       "0                NaN        NaN         NaN        NaN        NaN        NaN  \n",
       "1                 班级       选课属性         NaN       作业成绩       展示成绩         总分  \n",
       "2                NaN        NaN         NaN        NaN        NaN        NaN  \n",
       "3   经济学院2018级本科经济学1班         常规         NaN         10         23         33  \n",
       "4     2018级土地资源管理本科班         常规         NaN         20         22         42  \n",
       "..               ...        ...         ...        ...        ...        ...  \n",
       "78        2020经济学类4班         常规         NaN         20         21         41  \n",
       "79        2020经济学类3班         常规         NaN         20         23         43  \n",
       "80        2020经济学类4班         常规         NaN         20         21         41  \n",
       "81        2020经济学类4班         常规         NaN         20         19         39  \n",
       "82        2020经济学类3班         常规         NaN         休学        NaN        NaN  \n",
       "\n",
       "[83 rows x 9 columns]"
      ]
     },
     "execution_count": 3,
     "metadata": {},
     "output_type": "execute_result"
    }
   ],
   "source": [
    "data"
   ]
  },
  {
   "cell_type": "code",
   "execution_count": null,
   "metadata": {},
   "outputs": [],
   "source": []
  },
  {
   "cell_type": "code",
   "execution_count": 3,
   "metadata": {},
   "outputs": [
    {
     "data": {
      "text/plain": [
       "{'access_token': 'vXrq8hXKSFSYRYGXsPJadA',\n",
       " 'is_simple': '1',\n",
       " 'session': '3152bbcda22d4a649b22ff31dc7c43e1.10c16de7479049529750142202006a84',\n",
       " 'tiup_uid': '5f3dddb890f4d107a4427b41'}"
      ]
     },
     "execution_count": 3,
     "metadata": {},
     "output_type": "execute_result"
    }
   ],
   "source": [
    "login_url = \"https://v.ruc.edu.cn/auth/login\"\n",
    "headers = {\n",
    "    \"User-Agent\": 'Mozilla/5.0 (X11; CrOS i686 4319.74.0) AppleWebKit/537.36 (KHTML, like Gecko) Chrome/29.0.1547.57 Safari/537.36',\n",
    "    \"Accept\": \"*/*\"\n",
    "}\n",
    "src = requests.get(login_url, headers=headers).text\n",
    "\n",
    "soup = BeautifulSoup(src, 'html.parser')\n",
    "csrftoken = soup.find(id='csrftoken').attrs['value']\n",
    "\n",
    "data = {\n",
    "    \"username\": \"ruc:\" + student_id,\n",
    "    \"password\": password,\n",
    "    \"redirect_uri\": \"https%3A%2F%2Fv.ruc.edu.cn%2Foauth2%2Fauthorize%3Fclient_id%3Daccounts.tiup.cn%26redirect_uri%3Dhttps%253A%252F%252Fv.ruc.edu.cn%252Fsso%252Fcallback%253Fschool_code%253Druc%2526theme%253Dschools%26response_type%3Dcode%26school_code%3Druc%26scope%3Dall%26state%3Du9yHOdNUROmfoNgY%26theme%3Dschools\",\n",
    "    \"token\": csrftoken,\n",
    "    \"twofactor_password\":\"\",\n",
    "    \"twofactor_recovery\":\"\"\n",
    "}\n",
    "\n",
    "session = requests.Session()\n",
    "session.post(url=login_url, data=json.dumps(data), headers=headers)\n",
    "session.cookies.get_dict()"
   ]
  },
  {
   "cell_type": "code",
   "execution_count": 7,
   "metadata": {},
   "outputs": [
    {
     "data": {
      "text/plain": [
       "<Response [200]>"
      ]
     },
     "execution_count": 7,
     "metadata": {},
     "output_type": "execute_result"
    }
   ],
   "source": [
    "headers[\"Accept\"] = \"application/json\"\n",
    "response = session.post(\"https://jw.ruc.edu.cn/secService/logout?resourceCode=resourceCode&apiCode=framework.sign.controller.SignController.logout\")\n",
    "response"
   ]
  },
  {
   "cell_type": "code",
   "execution_count": 8,
   "metadata": {},
   "outputs": [
    {
     "data": {
      "text/plain": [
       "({'access_token': 'vXrq8hXKSFSYRYGXsPJadA',\n",
       "  'is_simple': '1',\n",
       "  'session': '3152bbcda22d4a649b22ff31dc7c43e1.10c16de7479049529750142202006a84',\n",
       "  'tiup_uid': '5f3dddb890f4d107a4427b41'},\n",
       " '<?xml version=\"1.0\" encoding=\"UTF-8\" standalone=\"yes\"?><returnMessageInfo><errorMessage>success</errorMessage><runTime>开始时间：2022-04-02 23:49:37;结束时间：2022-04-02 23:49:37;运行时间：0毫秒</runTime></returnMessageInfo>',\n",
       " {'Server': 'none', 'Date': 'Sat, 02 Apr 2022 15:49:37 GMT', 'Content-Type': 'application/xml', 'Transfer-Encoding': 'chunked', 'Connection': 'keep-alive', 'Vary': 'Accept-Encoding', 'X-Application-Context': 'gateway-service:8001', 'Access-Control-Allow-Origin': '*', 'Set-Cookie': 'SESSION=; Max-Age=0; Expires=Thu, 01-Jan-1970 00:00:10 GMT; Path=/; HttpOnly', 'Content-Encoding': 'gzip'})"
      ]
     },
     "execution_count": 8,
     "metadata": {},
     "output_type": "execute_result"
    }
   ],
   "source": [
    "response.text, response.headers"
   ]
  },
  {
   "cell_type": "code",
   "execution_count": null,
   "metadata": {},
   "outputs": [],
   "source": [
    "page_idx = 0\n",
    "url = f\"https://v.ruc.edu.cn/educenter/api/classes?offset={page_idx}&limit=10&name=&school_domain=v.ruc.edu.cn&timespan=1605364909980\"\n",
    "response = crawler.get(url)\n",
    "\n",
    "class_data = json.loads(response.text)[\"data\"]"
   ]
  },
  {
   "cell_type": "code",
   "execution_count": null,
   "metadata": {},
   "outputs": [],
   "source": [
    "class_data"
   ]
  },
  {
   "cell_type": "code",
   "execution_count": null,
   "metadata": {},
   "outputs": [],
   "source": [
    "class_id = \"62249220e70fc228129f2971\"\n",
    "url_student = f\"https://v.ruc.edu.cn/educenter/api/classes/{class_id}/users?limit=65536&school_domain=v.ruc.edu.cn\"\n",
    "response = crawler.get(url_student)\n",
    "student_data = json.loads(response.text)"
   ]
  },
  {
   "cell_type": "code",
   "execution_count": null,
   "metadata": {},
   "outputs": [],
   "source": [
    "student_data"
   ]
  },
  {
   "cell_type": "code",
   "execution_count": null,
   "metadata": {},
   "outputs": [],
   "source": [
    "sid = \"2020202469\"\n",
    "url = \"http://app.ruc.edu.cn/idccw/finance/StudentAction.do\"\n",
    "params = {\"method\":\"enterStudent\",\"q_xh\":sid,\"q_xm\":\"\"}\n",
    "response = crawler.get(url, params=params)\n",
    "response.text"
   ]
  },
  {
   "cell_type": "markdown",
   "metadata": {},
   "source": [
    "### Appointment"
   ]
  },
  {
   "cell_type": "code",
   "execution_count": null,
   "metadata": {},
   "outputs": [],
   "source": [
    "response = crawler.get(\"http://appointment.ruc.edu.cn/index/ruclogin/getjumpurl\")"
   ]
  },
  {
   "cell_type": "code",
   "execution_count": null,
   "metadata": {},
   "outputs": [],
   "source": [
    "response = crawler.get(\"http://appointment.ruc.edu.cn/index/apply/apply/RULEID/124\")\n",
    "html = BeautifulSoup(response.text, \"html.parser\")"
   ]
  },
  {
   "cell_type": "code",
   "execution_count": null,
   "metadata": {},
   "outputs": [],
   "source": [
    "files = {\n",
    "    'file': open(\"data/1.png\", 'rb')\n",
    "}\n",
    "files"
   ]
  },
  {
   "cell_type": "code",
   "execution_count": null,
   "metadata": {},
   "outputs": [],
   "source": [
    "headers = crawler.get_headers()\n",
    "headers[\"Accept-Encoding\"] = \"gzip, deflate\"\n",
    "headers[\"Accept\"] = \"text/html,application/xhtml+xml,application/xml;q=0.9,image/webp,image/apng,*/*;q=0.8,application/signed-exchange;v=b3;q=0.9\"\n",
    "headers[\"Content-Type\"] = \"multipart/form-data; boundary=----WebKitFormBoundaryYMViuwaBAA6z3tzB\"\n",
    "headers[\"Connection\"] = \"keep-alive\"\n",
    "headers[\"Content-Length\"] = \"63620\"\n",
    "headers[\"Cache-Control\"] = \"max-age=0\"\n",
    "headers[\"Referer\"] = \"http://appointment.ruc.edu.cn/index/apply/apply/RULEID/124\"\n",
    "headers[\"Origin\"] = \"http://appointment.ruc.edu.cn\"\n",
    "headers[\"Accept-Language\"] = \"zh-CN,zh;q=0.9,en;q=0.8,en-GB;q=0.7,en-US;q=0.6\"\n",
    "response = crawler.post(\"http://appointment.ruc.edu.cn/f/kindeditor/upload_json?dir=image\", headers=headers, files=files)\n",
    "response.text"
   ]
  },
  {
   "cell_type": "code",
   "execution_count": null,
   "metadata": {},
   "outputs": [],
   "source": [
    "response = crawler.get(\"http://appointment.ruc.edu.cn/index/apply/apply/RULEID/124\")\n",
    "response.text"
   ]
  }
 ],
 "metadata": {
  "kernelspec": {
   "display_name": "Python 3.9.7 ('base')",
   "language": "python",
   "name": "python3"
  },
  "language_info": {
   "codemirror_mode": {
    "name": "ipython",
    "version": 3
   },
   "file_extension": ".py",
   "mimetype": "text/x-python",
   "name": "python",
   "nbconvert_exporter": "python",
   "pygments_lexer": "ipython3",
   "version": "3.9.7"
  },
  "orig_nbformat": 4,
  "vscode": {
   "interpreter": {
    "hash": "d04ced9d2f3d780184266d6c04c38b10d0bc5dc91923fa3055e4cade559214a7"
   }
  }
 },
 "nbformat": 4,
 "nbformat_minor": 2
}
