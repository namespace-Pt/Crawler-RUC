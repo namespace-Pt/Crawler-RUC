{
 "cells": [
  {
   "cell_type": "code",
   "execution_count": null,
   "metadata": {},
   "outputs": [],
   "source": [
    "import json\n",
    "import requests\n",
    "from bs4 import BeautifulSoup\n",
    "from crawlers import *\n",
    "from password import student_id, password"
   ]
  },
  {
   "cell_type": "code",
   "execution_count": null,
   "metadata": {},
   "outputs": [],
   "source": [
    "crawler = VRUCCrawler(student_id, password)"
   ]
  },
  {
   "cell_type": "code",
   "execution_count": null,
   "metadata": {},
   "outputs": [],
   "source": [
    "headers = crawler.get_headers()"
   ]
  },
  {
   "cell_type": "code",
   "execution_count": null,
   "metadata": {},
   "outputs": [],
   "source": [
    "response = requests.get(\"https://v.ruc.edu.cn/sso/login?school_code=ruc&theme=schools\", headers=headers)"
   ]
  },
  {
   "cell_type": "code",
   "execution_count": null,
   "metadata": {},
   "outputs": [],
   "source": [
    "response.history[1].headers"
   ]
  },
  {
   "cell_type": "code",
   "execution_count": null,
   "metadata": {},
   "outputs": [],
   "source": [
    "response.text"
   ]
  },
  {
   "cell_type": "code",
   "execution_count": null,
   "metadata": {},
   "outputs": [],
   "source": [
    "response = crawler.post(\"https://jw.ruc.edu.cn/secService/logout?resourceCode=resourceCode&apiCode=framework.sign.controller.SignController.logout\")\n",
    "redirect_uri = json.loads(response.text)[\"data\"]"
   ]
  },
  {
   "cell_type": "code",
   "execution_count": null,
   "metadata": {},
   "outputs": [],
   "source": [
    "response = crawler.get(redirect_uri)"
   ]
  },
  {
   "cell_type": "code",
   "execution_count": null,
   "metadata": {},
   "outputs": [],
   "source": [
    "response.history[-2].headers"
   ]
  },
  {
   "cell_type": "code",
   "execution_count": null,
   "metadata": {},
   "outputs": [],
   "source": [
    "headers = crawler.get_headers()\n",
    "headers[\"Content-Type\"] = 'application/json'\n",
    "headers[\"TOKEN\"] = crawler.session.cookies.get_dict()[\"token\"]\n",
    "page = {\n",
    "    \"pageIndex\": 1,\n",
    "    \"pageSize\": 30,\n",
    "    \"orderBy\": \"[{\\\"field\\\":\\\"jczy013id\\\",\\\"sortType\\\":\\\"asc\\\"}]\",\n",
    "    \"conditions\": \"QZDATASOFTJddJJVIJY29uZGl0aW9uR3JvdXAlMjIlM0ElNUIlN0IlMjJsaW5rJTIyJTNBJTIyYW5kJTIyJTJDJTIyY29uZGl0aW9uJTIyJTNBJTVCJTVEJTdEyTTECTTE\"\n",
    "}\n",
    "data = {\n",
    "    \"pyfa007id\": \"1\",\n",
    "    \"jczy013id\": [],\n",
    "    \"fxjczy005id\": \"\",\n",
    "    \"cjckflag\": \"xsdcjck\",\n",
    "    \"page\": page\n",
    "}\n",
    "\n",
    "response2 = crawler.post(\"https://jw.ruc.edu.cn/resService/jwxtpt/v1/xsd/cjgl_xsxdsq/findKccjList?resourceCode=XSMH0507&apiCode=jw.xsd.xsdInfo.controller.CjglKccjckController.findKccjList\", data=json.dumps(data), headers=headers)\n",
    "response2"
   ]
  },
  {
   "cell_type": "code",
   "execution_count": null,
   "metadata": {},
   "outputs": [],
   "source": [
    "response2.text"
   ]
  },
  {
   "cell_type": "code",
   "execution_count": null,
   "metadata": {},
   "outputs": [],
   "source": [
    "crawler"
   ]
  },
  {
   "cell_type": "code",
   "execution_count": null,
   "metadata": {},
   "outputs": [],
   "source": [
    "response = crawler.get(\"http://appointment.ruc.edu.cn/index/ruclogin/getjumpurl\")"
   ]
  },
  {
   "cell_type": "code",
   "execution_count": null,
   "metadata": {},
   "outputs": [],
   "source": [
    "headers = crawler.get_headers()\n",
    "headers[\"Accept\"] = \"text/html,application/xhtml+xml,application/xml;q=0.9,image/webp,image/apng,*/*;q=0.8,application/signed-exchange;v=b3;q=0.9\""
   ]
  },
  {
   "cell_type": "code",
   "execution_count": null,
   "metadata": {},
   "outputs": [],
   "source": [
    "response = crawler.get(\"http://appointment.ruc.edu.cn/index/apply/apply/RULEID/124\")"
   ]
  },
  {
   "cell_type": "code",
   "execution_count": null,
   "metadata": {},
   "outputs": [],
   "source": [
    "html = BeautifulSoup(response.text, \"html.parser\")"
   ]
  },
  {
   "cell_type": "code",
   "execution_count": null,
   "metadata": {},
   "outputs": [],
   "source": [
    "files = {\n",
    "    'image': (\"1.jpg\", open(\"data/1.jpg\", 'rb'), \"multipart/form-data\")\n",
    "}\n",
    "files"
   ]
  },
  {
   "cell_type": "code",
   "execution_count": null,
   "metadata": {},
   "outputs": [],
   "source": [
    "headers[\"Accept-Encoding\"] = \"gzip, deflate\"\n",
    "headers[\"Accept\"] = \"text/html,application/xhtml+xml,application/xml;q=0.9,image/webp,image/apng,*/*;q=0.8,application/signed-exchange;v=b3;q=0.9\"\n",
    "headers[\"Content-Type\"] = \"multipart/form-data; boundary=----WebKitFormBoundaryYMViuwaBAA6z3tzB\"\n",
    "response = crawler.post(\"http://appointment.ruc.edu.cn/f/kindeditor/upload_json?dir=image\", files=files, headers=headers)\n",
    "response.text"
   ]
  },
  {
   "cell_type": "code",
   "execution_count": null,
   "metadata": {},
   "outputs": [],
   "source": [
    "response.headers"
   ]
  },
  {
   "cell_type": "code",
   "execution_count": null,
   "metadata": {},
   "outputs": [],
   "source": [
    "response = crawler.get(\"http://appointment.ruc.edu.cn/index/apply/apply/RULEID/124\")\n",
    "response.text"
   ]
  },
  {
   "cell_type": "code",
   "execution_count": null,
   "metadata": {},
   "outputs": [],
   "source": [
    "crawler = JWCrawler(\n",
    "    student_id=student_id,\n",
    "    password=password\n",
    ")\n",
    "crawler.get_grade()"
   ]
  },
  {
   "cell_type": "code",
   "execution_count": null,
   "metadata": {},
   "outputs": [],
   "source": []
  }
 ],
 "metadata": {
  "interpreter": {
   "hash": "f4bcd350b6c4279170753eb176a7f4c9214985f184dcc4ddacbe625a35cf9bbf"
  },
  "kernelspec": {
   "display_name": "Python 3.9.7 ('web')",
   "language": "python",
   "name": "python3"
  },
  "language_info": {
   "codemirror_mode": {
    "name": "ipython",
    "version": 3
   },
   "file_extension": ".py",
   "mimetype": "text/x-python",
   "name": "python",
   "nbconvert_exporter": "python",
   "pygments_lexer": "ipython3",
   "version": "3.8.8"
  },
  "orig_nbformat": 4
 },
 "nbformat": 4,
 "nbformat_minor": 2
}
